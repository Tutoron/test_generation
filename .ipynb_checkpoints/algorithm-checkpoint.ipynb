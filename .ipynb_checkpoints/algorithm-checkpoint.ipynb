{
 "cells": [
  {
   "cell_type": "code",
   "execution_count": 84,
   "metadata": {},
   "outputs": [],
   "source": [
    "import pandas as pd\n",
    "import numpy as np\n",
    "from gensim.models import Word2Vec\n",
    "from sklearn import svm\n",
    "from sklearn.linear_model import LogisticRegression as lr"
   ]
  },
  {
   "cell_type": "code",
   "execution_count": 85,
   "metadata": {
    "collapsed": true
   },
   "outputs": [],
   "source": [
    "def wordToVec(sentences):\n",
    "    vec = np.zeros(len(sentences))\n",
    "    word = [s.split(' ') for s in sentences]\n",
    "    #print(word)\n",
    "    model = Word2Vec(word, min_count=1)\n",
    "    #print(model.wv.get_vector(word[0][0]).shape)\n",
    "    for i in range(len(word)):\n",
    "        temp = np.zeros(100)\n",
    "        for j in range(len(word[i])):\n",
    "            temp += model.wv.get_vector(word[i][j])\n",
    "        # take average of the sentences\n",
    "        vec[i] = np.sum(temp)\n",
    "    #print(vec)\n",
    "    return vec"
   ]
  },
  {
   "cell_type": "code",
   "execution_count": 86,
   "metadata": {},
   "outputs": [],
   "source": [
    "#####\n",
    "# file strcture:\n",
    "# 1. sentence: equation with symbol replaced with EQUATION\n",
    "#              equation without symbol replaced with OBJECT\n",
    "# 2. section sentence appears: number of section/total section\n",
    "#             e.g.: Introduction:1/n, Section 3.1:3.33333/n\n",
    "# 3. number of appearance: number of symbol appearance/total number of appearance\n",
    "# 4. label: 0 - weak, 1 - medium, 2 - strong\n",
    "\n",
    "df = pd.read_csv('testset_jenny.csv', names=['sentence','section','numAppearance','label'], header=None)\n",
    "#print(type(df[df.columns[0]]))\n",
    "vec = wordToVec(df[df.columns[0]].tolist())\n",
    "df.insert(1,\"vec\",vec,allow_duplicates=True)\n",
    "df\n",
    "X = df[['vec','section','numAppearance']]\n",
    "Y = df['label']"
   ]
  },
  {
   "cell_type": "code",
   "execution_count": 87,
   "metadata": {},
   "outputs": [
    {
     "name": "stdout",
     "output_type": "stream",
     "text": [
      "[[ 1.          1.          1.          1.          0.          1.\n",
      "  -1.         -1.         -1.         -1.         -1.         -1.\n",
      "  -1.         -1.        ]\n",
      " [ 0.          0.          0.89490612  1.          0.10509388  1.\n",
      "   0.          0.47275133  1.          0.52724867  1.         -1.\n",
      "  -1.         -1.        ]]\n",
      "[0.97602332 0.98085544 0.96137661]\n"
     ]
    }
   ],
   "source": [
    "# SVM\n",
    "clf = svm.SVC()\n",
    "clf.fit(X,Y)\n",
    "print(clf.dual_coef_)\n",
    "print(clf.intercept_)"
   ]
  },
  {
   "cell_type": "code",
   "execution_count": 88,
   "metadata": {},
   "outputs": [
    {
     "name": "stdout",
     "output_type": "stream",
     "text": [
      "[0]\n"
     ]
    }
   ],
   "source": [
    "# predict\n",
    "print(clf.predict([[0.987452, 0.370370, 0.4]]))"
   ]
  },
  {
   "cell_type": "code",
   "execution_count": 89,
   "metadata": {},
   "outputs": [
    {
     "name": "stdout",
     "output_type": "stream",
     "text": [
      "[[ 0.145366   -0.06627965 -0.39529861]\n",
      " [-0.16351924 -0.20659595  0.10713001]\n",
      " [ 0.01815324  0.27287559  0.2881686 ]]\n"
     ]
    }
   ],
   "source": [
    "# Multinomial Logit\n",
    "mlr = lr(multi_class=\"multinomial\", solver=\"newton-cg\")\n",
    "mlr.fit(X,Y)\n",
    "print(mlr.coef_)"
   ]
  },
  {
   "cell_type": "code",
   "execution_count": 90,
   "metadata": {},
   "outputs": [
    {
     "name": "stdout",
     "output_type": "stream",
     "text": [
      "[0]\n"
     ]
    }
   ],
   "source": [
    "# predict\n",
    "print(mlr.predict([[0.987452, 0.370370, 0.4]]))"
   ]
  },
  {
   "cell_type": "code",
   "execution_count": null,
   "metadata": {
    "collapsed": true
   },
   "outputs": [],
   "source": []
  }
 ],
 "metadata": {
  "kernelspec": {
   "display_name": "Python 3",
   "language": "python",
   "name": "python3"
  },
  "language_info": {
   "codemirror_mode": {
    "name": "ipython",
    "version": 3
   },
   "file_extension": ".py",
   "mimetype": "text/x-python",
   "name": "python",
   "nbconvert_exporter": "python",
   "pygments_lexer": "ipython3",
   "version": "3.6.1"
  }
 },
 "nbformat": 4,
 "nbformat_minor": 2
}
